{
 "cells": [
  {
   "cell_type": "markdown",
   "id": "0c34b4c1-7020-48f9-a6e7-8a2178893493",
   "metadata": {
    "jp-MarkdownHeadingCollapsed": true
   },
   "source": [
    "# 0. Data Processing\n",
    "\n",
    "## Data Source\n",
    "\n",
    "The data used for this analysis is sourced from the [Harry Potter Movies Dataset](https://www.kaggle.com/datasets/maricinnamon/harry-potter-movies-dataset/data) on Kaggle.\n",
    "\n",
    "## Example Data\n",
    "\n",
    "The dataset includes the following columns:\n",
    "\n",
    "- **Dialogue ID**: A unique identifier for each dialogue\n",
    "- **Chapter ID**: The chapter in which the dialogue occurs\n",
    "- **Place ID**: The location of the scene\n",
    "- **Character ID**: A unique identifier for each character\n",
    "- **Dialogue**: The spoken text by the character\n",
    "\n",
    "Here is an example of the data format:\n",
    "\n",
    "| Dialogue ID | Chapter ID | Place ID | Character ID | Dialogue |\n",
    "|-------------|------------|----------|--------------|----------|\n",
    "| 1           | 1          | 8        | 4            | I should have known that you would be here...Professor McGonagall. |\n",
    "| 2           | 1          | 8        | 7            | Good evening, Professor Dumbledore. Are the rumours true, Albus? |\n",
    "| 3           | 1          | 8        | 4            | I'm afraid so, Professor. The good, and the bad. |\n",
    "| 4           | 1          | 8        | 7            | And the boy? |\n",
    "| 5           | 1          | 8        | 4            | Hagrid is bringing him. |\n",
    "\n",
    "## Data Extraction\n",
    "\n",
    "We have obtained a CSV file that consists of dialogues, scene numbers, and character names. We then extracted the dialogues by character names using the pandas library."
   ]
  },
  {
   "cell_type": "code",
   "execution_count": 1,
   "id": "4acb910c-8f24-4b77-a3ac-ba07e1855ad6",
   "metadata": {
    "scrolled": true
   },
   "outputs": [
    {
     "name": "stdout",
     "output_type": "stream",
     "text": [
      "     Character ID                                           Dialogue\n",
      "0               1  Yes, Aunt Petunia. Yes, Uncle Vernon. He's asl...\n",
      "1               2  Excuse me, do you mind? Everywhere else is ful...\n",
      "2               3  Has anyone seen a toad? A boy named Neville's ...\n",
      "3               4  I should have known that you would be here...P...\n",
      "4               5  Professor Dumbledore, Sir. Professor McGonagal...\n",
      "..            ...                                                ...\n",
      "161           162            Oy! What do you two think you're doing?\n",
      "162           163                        Oh, that was wicked, Harry.\n",
      "163           164  Go go Gryffindor! Go go Gryffindor! Go go Gryf...\n",
      "164           165                                               Yay!\n",
      "165           166  Protego Maxima... Finato Duri... Repello Inimi...\n",
      "\n",
      "[166 rows x 2 columns]\n"
     ]
    }
   ],
   "source": [
    "import pandas as pd \n",
    "\n",
    "# Load the CSV files directly with encoding\n",
    "df = pd.read_csv('C:/Users/Jessi/Desktop/DS_project/Dialogue.csv', delimiter=';', encoding='latin1')\n",
    "\n",
    "# Drop the unnecessary columns\n",
    "df = df.drop(columns=['Dialogue ID', 'Chapter ID', 'Place ID'])\n",
    "\n",
    "# Decode to utf-8\n",
    "df['Dialogue'] = df['Dialogue'].str.encode('latin1', errors='ignore').str.decode('utf-8', errors='ignore')\n",
    "\n",
    "# Group the dialogue by character_name and join the dialogue for each character\n",
    "grouped_dialogue = df.groupby('Character ID')['Dialogue'].apply(lambda x: ' '.join(x)).reset_index()\n",
    "\n",
    "# Show the result\n",
    "print(grouped_dialogue)"
   ]
  },
  {
   "cell_type": "code",
   "execution_count": 2,
   "id": "a3c0aae7-ab12-4d3b-840a-2a34ba1a4ca0",
   "metadata": {},
   "outputs": [],
   "source": [
    "import spacy\n",
    "# Load an English model from spacy\n",
    "nlp = spacy.load('en_core_web_lg')"
   ]
  },
  {
   "cell_type": "code",
   "execution_count": 3,
   "id": "6d3f3074-8e36-4152-aa24-34cf82328025",
   "metadata": {},
   "outputs": [],
   "source": [
    "#extracted dialogue of Albus Dumbledore\n",
    "Dumbledore_dia = grouped_dialogue[grouped_dialogue['Character ID'] == 4]['Dialogue'].iloc[0]"
   ]
  },
  {
   "cell_type": "code",
   "execution_count": 4,
   "id": "4ffc78c3-3b20-4a17-9ff9-80e71bbc02a7",
   "metadata": {},
   "outputs": [],
   "source": [
    "#extracted dialogue of Harry Porter\n",
    "Harry_dia = grouped_dialogue[grouped_dialogue['Character ID'] == 1]['Dialogue'].iloc[0]"
   ]
  },
  {
   "cell_type": "code",
   "execution_count": 5,
   "id": "95da342b-52e5-4ac8-ae71-723c5cd1e9c2",
   "metadata": {},
   "outputs": [],
   "source": [
    "#extracted dialogue of Hermione Granger\n",
    "Hermione_dia = grouped_dialogue[grouped_dialogue['Character ID'] == 3]['Dialogue'].iloc[0]"
   ]
  },
  {
   "cell_type": "code",
   "execution_count": 6,
   "id": "0cf6b478-04f7-45aa-93c8-5c3a073f4dfd",
   "metadata": {
    "scrolled": true
   },
   "outputs": [],
   "source": [
    "#extracted dialogue of Ron Weasley\n",
    "Ron_dia = grouped_dialogue[grouped_dialogue['Character ID'] == 2]['Dialogue'].iloc[0]"
   ]
  },
  {
   "cell_type": "code",
   "execution_count": 7,
   "id": "0b978de3-126d-4b18-8a41-febb60b8e166",
   "metadata": {
    "scrolled": true
   },
   "outputs": [],
   "source": [
    "#extracted dialogue of Voldemort\n",
    "Voldemort_dia = grouped_dialogue[grouped_dialogue['Character ID'] == 9]['Dialogue'].iloc[0]"
   ]
  },
  {
   "cell_type": "code",
   "execution_count": 8,
   "id": "0b683918-8509-4b4a-88b2-c75414c77777",
   "metadata": {
    "scrolled": true
   },
   "outputs": [],
   "source": [
    "#extracted dialogue of Draco Malfoy\n",
    "Malfoy_dia = grouped_dialogue[grouped_dialogue['Character ID'] == 12]['Dialogue'].iloc[0]"
   ]
  },
  {
   "cell_type": "code",
   "execution_count": 9,
   "id": "c08a2bd9-40f5-4c83-b62b-1dafd67311fd",
   "metadata": {
    "scrolled": true
   },
   "outputs": [],
   "source": [
    "#extracted dialogue of Severus Snape\n",
    "Snape_dia = grouped_dialogue[grouped_dialogue['Character ID'] == 6]['Dialogue'].iloc[0]"
   ]
  },
  {
   "cell_type": "markdown",
   "id": "af35749a-df80-48a9-b455-8b87f1cd629a",
   "metadata": {},
   "source": [
    "# 0. A Brief Introduction to Big Five Personality\n",
    "\n",
    "Proposed by McCrae and Coasta (1997), Big Five personality trait structure is one of the most developed theory on personlaity. The five personality traits are labelled Extraversion, Agreeableness, Consientiousness, Neuroticism (or Emotional Stability), and Openness. Below is a brief explanation of each (transformed from Stening and Stening 2018). \n",
    "\n",
    "| Trait            | Description                                                                                       |\n",
    "|------------------|---------------------------------------------------------------------------------------------------|\n",
    "| **Extraversion** | Reflects traits like sociability, assertiveness, and the tendency to seek stimulation in social settings. |\n",
    "| **Agreeableness** | Indicates a tendency toward compassion, cooperation, and a generally good-tempered attitude.       |\n",
    "| **Conscientiousness** | Shows an inclination to be organized, dependable, and disciplined, often with a focus on achievement. |\n",
    "| **Neuroticism** | Describes the extent to which a person experiences negative emotions and their level of emotional stability. |\n",
    "| **Openness**    | Reflects intellectual curiosity, creativity, and a preference for novelty and variety.              |\n",
    "\n",
    "\n",
    "# 0. Personality Traits of Harry Potter Characters\n",
    "\n",
    "We obtain the data about personality traits of Harry Potter characters from Stening and Stening (2018). Considering the relative importance in the series, a balance of good and bad characters, and also the \"screen time\" which is the complexity and ambiguity of their morals and personality, and the amount of change they underwent through the series, the study chose seven leading characters: Harry Potter, Hermione Granger, Ron Wesley, Draco Malfoy, Albus Dumbledore, Severus Snape, Lord Voldmort. The study conduct a voluntary survey filled in by school students in Australia and China. Within the three-week timeframe that was allowed, usable (i.e. fully completed) responses were received from 172 people using the English survey and 63 using the Chinese survey. As our dataset is English, we use the English-speaking students' results. Transformed into a table below:\n",
    "\n",
    "|   Character   | Neuroticism  | Extroversion |   Openness   |Agreeableness |Conscientiousness|\n",
    "|--------------|--------------|--------------|--------------|--------------|--------------|\n",
    "|Ron Wesley|3.22|4.9|4.02|3.76|3.01|\n",
    "|Hermine Granger|4.22|4.65|5.12|4.07|6.22|\n",
    "|Albus Dumbledore|5.52|4.36|5.52|5.07|5.73|\n",
    "|Lord Voldmort|3|4.36|4.27|1.95|4.88|\n",
    "|Draco Malfoy|3.15|4.23|3.86|2.15|4.16|\n",
    "|Harry Potter|3.85|3.92|5.13|4.11|4.36|\n",
    "|Severus Snape|4.43|2.65|4.08|2.6|5.49|\n",
    "\n",
    "\n",
    "# 1. Sentence Structure and Personality Traits \n",
    "Research by Ginting (2018) suggests that extroverted individuals tend to use more compound sentences (CpdS) and compound-complex sentences (CCS), while introverted individuals prefer simple sentences (SS). This relationship indicates that sentence structure could provide insights into personality traits, specifically levels of extroversion and introversion.\n",
    "\n",
    "# 2. Complexity and Extraversion\n",
    "Spitzley et al. (2022) identified a positive correlation between Extraversion and linguistic complexity, where complexity is measured by the average characters per word. We will apply this measure of complexity to evaluate the level of extraversion among seven characters from the Harry Potter series.\n",
    "\n",
    "**In this project, we will:**\n",
    "\n",
    "- Count the occurrences of compound sentences, compound-complex sentences, and simple sentences.\n",
    "- Calculate their percentage relative to the total sentence count.\n",
    "- Complexity Calculation: For each character, we will calculate the average characters per word.\n",
    "  \n",
    "This analysis will allow us to examine patterns in sentence structure that might reflect extroversion and to determine whether linguistic complexity aligns with levels of extroversion, as suggested by existing research.\n",
    "\n",
    "**Reference:**\n",
    "\n",
    "Ginting, S. (2018). Syntactic Complexity on Extroverted and Introverted Indonesian Language Learners’ Written Products. International Journal of      Education and Literacy Studies, 6(4), 101-106. doi:https://doi.org/10.7575/aiac.ijels.v.6n.4p.101\n",
    "\n",
    "Spitzley, L. A., Wang, X., Chen, X., Burgoon, J. K., Dunbar, N. E., & Ge, S. (2022). Linguistic measures of personality in group discussions. Frontiers in Psychology, 13, Article 887616. https://doi.org/10.3389/fpsyg.2022.887616\n",
    "\n",
    "Stening, R. Y., & Stening, B. W. (2020). “Magic and the Mind”: The Impact of Cultural and Linguistic Background on the Perception of Characters in Harry Potter. _Children's Literature in Education, 51,_ 285-308."
   ]
  },
  {
   "cell_type": "code",
   "execution_count": 10,
   "id": "e6bb13aa-aa8c-482c-90bd-4db5ae57bede",
   "metadata": {},
   "outputs": [],
   "source": [
    "#Helper function that checks if a given token (word) is part of a subordinate clause.\n",
    "def is_subordinate_clause(token):\n",
    "    subordinate_tags = {\"advcl\", \"ccomp\", \"relcl\",\"acl\"}\n",
    "    \n",
    "    return token.dep_ in subordinate_tags"
   ]
  },
  {
   "cell_type": "code",
   "execution_count": 11,
   "id": "ab79406d-a7f7-4564-b371-39cc332ea34b",
   "metadata": {},
   "outputs": [],
   "source": [
    "\"\"\"\n",
    "Create a helper function that counts the number of independent and subordinate clauses in a sentence.\n",
    "Args:\n",
    "    sentence: Sentence \n",
    "Returns:\n",
    "    the independent and dependent clauses\n",
    "\"\"\"\n",
    "def count_clauses_per_sentence(sentence):\n",
    "    independent_clauses = 0\n",
    "    subordinate_clauses = 0\n",
    "\n",
    "    # FIND INDEPENDENT CLAUSES\n",
    "    for token in sentence:\n",
    "        if token.dep_ == \"ROOT\":\n",
    "            independent_clauses += 1 \n",
    "\n",
    "        # Check for nsubj/nsubjpass immediately before conj VERB\n",
    "        if token.dep_ == \"conj\" and token.pos_ == \"VERB\":\n",
    "            # Ensure that we're not at the first or second token of the document\n",
    "            if token.i > 0:\n",
    "                prev_token = token.doc[token.i - 1] \n",
    "                if prev_token.dep_ in {\"nsubj\", \"nsubjpass\"}:\n",
    "                    independent_clauses += 1\n",
    "            \n",
    "            if token.i > 1:\n",
    "                pprev_token = token.doc[token.i - 2] \n",
    "                if pprev_token.dep_ in {\"nsubj\", \"nsubjpass\"}:\n",
    "                    independent_clauses += 1\n",
    "\n",
    "    # FIND SUBORDINATE CLAUSES\n",
    "    for token in sentence:\n",
    "        if is_subordinate_clause(token):  \n",
    "            subordinate_clauses += 1\n",
    "\n",
    "    return independent_clauses, subordinate_clauses"
   ]
  },
  {
   "cell_type": "code",
   "execution_count": 12,
   "id": "ddf64ee1-dba7-412a-a389-3e55d8dcb513",
   "metadata": {},
   "outputs": [],
   "source": [
    "\"\"\"\n",
    "Create a function to count the number of compound sentences in the dialogues of each character.\n",
    "Args:\n",
    "    doc: the processed text by Spacy\n",
    "Returns:\n",
    "    the number of compound sentences\n",
    "\"\"\"\n",
    "\n",
    "def count_compound_sentences(doc):\n",
    "    sent_count = 0\n",
    "    #compound_sentences = []\n",
    "    \n",
    "    for sentence in doc.sents:\n",
    "            independent_clauses = 0\n",
    "            subjects = set()\n",
    "            verbs = set()\n",
    "            \n",
    "            for token in sentence:\n",
    "                # Count ROOT verbs\n",
    "                if token.dep_ == \"ROOT\" and token.pos_ == \"VERB\":\n",
    "                    independent_clauses += 1\n",
    "                    verbs.add(token)\n",
    "    \n",
    "                # Count subjects\n",
    "                if token.dep_ in {\"nsubj\", \"nsubjpass\"}:\n",
    "                    subjects.add(token)\n",
    "                    # Check if the subject's head is a verb\n",
    "                    if token.head.pos_ == \"VERB\":\n",
    "                        verbs.add(token.head)\n",
    "    \n",
    "                # Check for coordinating conjunctions connecting clauses\n",
    "                if token.dep_ == \"conj\" and token.pos_ == \"VERB\":\n",
    "                    if any(subj.head == token for subj in subjects):\n",
    "                        independent_clauses += 1\n",
    "                        verbs.add(token)\n",
    "    \n",
    "            # Check if we have at least two subjects and two verbs\n",
    "            if len(subjects) >= 2 and len(verbs) >= 2 and independent_clauses > 1:\n",
    "                # Additional check: ensure the sentence has a coordinating conjunction\n",
    "                if any(token.pos_ == \"CCONJ\" for token in sentence):\n",
    "                    sent_count += 1\n",
    "                    #compound_sentences.append(sentence.text)\n",
    "    \n",
    "    return sent_count"
   ]
  },
  {
   "cell_type": "code",
   "execution_count": 13,
   "id": "c590a3d8-e46c-4cf3-9559-93e4ff4d8cca",
   "metadata": {},
   "outputs": [],
   "source": [
    "\"\"\"\n",
    "Create a function to count the number of compound-complex sentences in the dialogues of each character.\n",
    "Args:\n",
    "    text: the processed text by Spacy\n",
    "Returns:\n",
    "    the number of compound-complex sentences\n",
    "\"\"\"\n",
    "def cc_sent(text):\n",
    "    sent_count = 0\n",
    "    cc_sentences = []\n",
    "    \n",
    "    for sent in text.sents:\n",
    "        indep_count, sub_count = count_clauses_per_sentence(sent)\n",
    "        # Compound-complex sentences contain at least 2 independent clauses and 1 dependent clause\n",
    "        if indep_count >= 2 and sub_count >= 1:\n",
    "            sent_count += 1\n",
    "            cc_sentences.append(sent.text)\n",
    "            \n",
    "    return cc_sentences, sent_count"
   ]
  },
  {
   "cell_type": "code",
   "execution_count": 19,
   "id": "758783e4-bc24-4621-9d76-bb882fdbb34d",
   "metadata": {},
   "outputs": [],
   "source": [
    "\"\"\"\n",
    "Create a function to check whether a sentence is a simple sentence. Simple Sentence contains only one subject and one predicate\n",
    "Args:\n",
    "    sentence: Sentence\n",
    "Returns:\n",
    "    True if there's only one independent clause, no subordinate clauses\n",
    "\"\"\"\n",
    "def is_simple_sentence(sentence):\n",
    "    # Count the number of ROOT verbs (should be 1 for a simple sentence). \n",
    "    root_count = sum(1 for token in sentence if token.dep_ == \"ROOT\" and token.pos_ == \"VERB\")\n",
    "\n",
    "    # Allow compound subjects and predicates but avoid dependent clauses\n",
    "    has_subordinate_clause = any(is_subordinate_clause(token) for token in sentence) \n",
    "    \n",
    "    return root_count == 1 and not has_subordinate_clause\n",
    "\n",
    "\"\"\"\n",
    "Create a function to count the number of simple sentences in the dialogues of each character.\n",
    "Args:\n",
    "    text: the processed text by Spacy\n",
    "Returns:\n",
    "    the number of simple sentences\n",
    "\"\"\"\n",
    "def count_simple_sentences(text):\n",
    "    simple_sentence_count = 0\n",
    "\n",
    "    for sent in text.sents:\n",
    "        if is_simple_sentence(sent): \n",
    "            simple_sentence_count += 1\n",
    "\n",
    "    return simple_sentence_count "
   ]
  },
  {
   "cell_type": "code",
   "execution_count": 20,
   "id": "0789614a-e073-485a-9621-03e9bef90530",
   "metadata": {},
   "outputs": [],
   "source": [
    "\"\"\"\n",
    "Create a function to count the total number of sentences in the dialogues of each character.\n",
    "Args:\n",
    "    text: The processed text by Spacy\n",
    "Returns:\n",
    "    The number of sentences\n",
    "\"\"\"\n",
    "def sent_count(text):\n",
    "    sent_count = 0\n",
    "    for sent in text.sents:\n",
    "        sent_count += 1\n",
    "    return sent_count"
   ]
  },
  {
   "cell_type": "code",
   "execution_count": 21,
   "id": "b649a121-6b09-4400-976b-f134cc799de3",
   "metadata": {},
   "outputs": [],
   "source": [
    "\"\"\"\n",
    "Create a function to calculate the lexical complexity\n",
    "Args:\n",
    "    doc: the processed text by Spacy\n",
    "Returns:\n",
    "    lexical complexity score\n",
    "\"\"\"\n",
    "def calculate_complexity(doc):\n",
    "    \n",
    "    # Filter tokens to include only words (exclude punctuation, spaces, etc.)\n",
    "    words = [token for token in doc if token.is_alpha]\n",
    "    \n",
    "    # Calculate the total number of characters in words\n",
    "    total_characters = sum(len(token) for token in words)\n",
    "    \n",
    "    # Calculate the average characters per word\n",
    "    complexity = total_characters / len(words) if words else 0\n",
    "    \n",
    "    return complexity"
   ]
  },
  {
   "cell_type": "code",
   "execution_count": 22,
   "id": "052ad8c8-f784-4761-a182-78aa21facd46",
   "metadata": {},
   "outputs": [],
   "source": [
    "\"\"\"\n",
    "Create a function to analyze and present sentence structure data.\n",
    "\n",
    "Args:\n",
    "    doc: The processed text by Spacy.\n",
    "\n",
    "Returns:\n",
    "    dict: A dictionary containing the following keys:\n",
    "        - total_sent: Total number of sentences\n",
    "        - simple_sent: Number of simple sentences\n",
    "        - s_t: Percentage of simple sentences\n",
    "        - cpound_t: Percentage of compound sentences\n",
    "        - cc_t: Percentage of compound-complex sentences\n",
    "        - cpound_count: Number of compound sentences\n",
    "        - cc_count: Number of compound-complex sentences\n",
    "        - complexity: Lexical complexity score (average characters per word)\n",
    "\"\"\"\n",
    "def analyze_sentence_structure(doc):\n",
    "    \n",
    "    cc_sents, cc_count = cc_sent(doc)\n",
    "    cpound_count = count_compound_sentences(doc)\n",
    "\n",
    "    total_sent = sent_count(doc)\n",
    "    simple_sent = count_simple_sentences(doc)\n",
    "    complexity = calculate_complexity(doc)\n",
    "\n",
    "    #Percentage of simple sentences.\n",
    "    s_t = (simple_sent / total_sent) * 100 if total_sent > 0 else 0\n",
    "    \n",
    "    #Percentage of compound-complex sentences.\n",
    "    cc_t = (cc_count / total_sent) * 100 if total_sent > 0 else 0\n",
    "\n",
    "    #Percentage of compound sentences.\n",
    "    cpound_t = (cpound_count / total_sent) * 100 if total_sent > 0 else 0\n",
    "    \n",
    "    print(f\"Compound-Complex Sentences: {cc_count}\")\n",
    "    print(f\"Compound Sentences: {cpound_count}\")\n",
    "    print(f\"Total Sentences: {total_sent}\")\n",
    "    print(f\"Simple Sentences: {simple_sent}\")\n",
    "    print(f\"Simple Sentences / Total Sentences: {s_t:.2f}%\")\n",
    "    print(f\"Compound-Complex Sentences / Total Sentences: {cc_t:.2f}%\")\n",
    "    print(f\"Compound Sentences / Total Sentences: {cpound_t:.2f}%\")\n",
    "    print(f\"Complexity: {complexity:.2f} char per word\")\n",
    "    \n",
    "    return {\n",
    "        'total_sent': total_sent,\n",
    "        'simple_sent': simple_sent,\n",
    "        's_t': s_t,\n",
    "        'cpound_t': cpound_t,\n",
    "        'cc_t':  cc_t,\n",
    "        'cpound_count' : cpound_count,\n",
    "        'cc_count': cc_count,\n",
    "        'complexity': complexity\n",
    "    }"
   ]
  },
  {
   "cell_type": "markdown",
   "id": "9a4bac91-4f38-4c88-8cf6-cfdad344cb31",
   "metadata": {},
   "source": [
    "# 3. Result:\n",
    "\n",
    "Recall our hypotheses on sentence-level linguitic features:\n",
    "(1) Extroverted individuals tend to use more compound sentences (CpdS) and compound-complex sentences (CCS), while introverted individuals prefer simple sentences (SS).\n",
    "(2) A positive correlation between Extraversion and linguistic complexity as measured by the average characters per word.\n",
    "\n",
    "**Result Summary**\n",
    "\n",
    "| Characters | Simple Sentences (s_t) | Compound-Complex Sentences (cc_t) | Compound Sentences (cpound_t) | Complexity |\n",
    "|------------|------------------------|-----------------------------------|-------------------------------|------------|\n",
    "| Albus Dumbledore| 31.17                  | 11 (1.13)                         | 15 (1.54)                     | 4.22       |\n",
    "| Harry Potter    | 36.07                  | 8 (0.27)                          | 16 (0.53)                     | 3.92       |\n",
    "| Hermione Granger| 34.39                  | 11 (0.78)                         | 15 (1.06)                     | 4.08       |\n",
    "| Ron Wesley      | 31.60                  | 6 (0.42)                          | 8 (0.56)                      | 3.91       |\n",
    "| Lord Voldmort   | 43.35                  | 2 (0.76)                          | 4 (1.52)                      | 4.04       |\n",
    "| Drado Malfoy    | 37.93                  | 0 (0.00)                          | 2 (0.86)                      | 4.01       |\n",
    "| Severus Snape   | 39.81                  | 4 (1.25)                          | 4 (1.25)                      | 4.25       |\n",
    "\n",
    "### Discussion and Conclusions\n",
    "\n",
    "Similar to the word-level results, a statistical correlation test indicates that the correlation between extraversion and sentence-level complexity is not significant (p > 0.05). However, a manual inspection of the data reveals some notable trends.\n",
    "\n",
    "Our results suggest some support for the hypothesis that extroverted characters might use a greater proportion of compound and compound-complex sentences, aligning with the hypothesis of a preference among extroverts for more syntactically complex sentence structures. For instance, Albus Dumbledore and Hermione Granger, often portrayed as outgoing and intellectually confident, demonstrate a higher frequency of compound-complex sentences (11 occurrences each, with 1.13% and 0.78% of their dialogues respectively). Also, Albus Dumbledore and Hermione Granger also get relatively high scores in complexity (4.22 and 4.08 respectively). This supports the hypothesis that extroverted individuals tend to use more syntactically complex sentence structures.\n",
    "\n",
    "When examining introverted characters like Draco Malfoy and Harry Potter, typically depicted as more introverted, Draco shows a lower frequency of complex sentences, with no compound-complex sentences and only 2 compound sentences (0.86% of his dialogue). Harry also exhibits a relatively low percentage of compound (0.53%) and compound-complex (0.27%) sentences. This is consistent with the notion that introverted individuals prefer simpler sentence structures.\n",
    "\n",
    "However, the case of Severus Snape presents interesting deviations from this pattern. Often viewed as introverted, he surprisingly shows a relatively high percentage of compound sentences (1.25%) and compound-complex sentences (1.25%) in his dialogue. Also, Ron Weasley, expected to be extroverted, has a low percentage of compound sentences (0.56%) and compound-complex sentences (0.42%), indicating more introverted tendencies and contradicting our hypothesis.\n",
    "\n",
    "A similar case occurs in complexity based on characters per word; the data do not fully support a strong positive correlation between extraversion and linguistic complexity. Characters associated with introversion, such as Snape (4.25), exhibit the highest complexity scores, while characters with lower complexity measures do not neatly correlate with extraversion.\n",
    "\n",
    "In sum, while the observed patterns are consistent with some of our hypotheses, the lack of statistical significance suggests that these tendencies may be more nuanced and possibly influenced by factors beyond personality alone, requiring further investigation with a larger dataset or alternative complexity measures.\n",
    "\n",
    "_© Yifei Chen, Chi Kuan Lai. 2024_"
   ]
  },
  {
   "cell_type": "code",
   "execution_count": 23,
   "id": "c4293203-5da3-4123-9c25-24ab3734fdea",
   "metadata": {},
   "outputs": [
    {
     "name": "stdout",
     "output_type": "stream",
     "text": [
      "Compound-Complex Sentences: 11\n",
      "Compound Sentences: 15\n",
      "Total Sentences: 972\n",
      "Simple Sentences: 303\n",
      "Simple Sentences / Total Sentences: 31.17%\n",
      "Compound-Complex Sentences / Total Sentences: 1.13%\n",
      "Compound Sentences / Total Sentences: 1.54%\n",
      "Complexity: 4.22 char per word\n"
     ]
    }
   ],
   "source": [
    "doc_AB = nlp(Dumbledore_dia)\n",
    "\n",
    "AB_result = analyze_sentence_structure(doc_AB)\n",
    "AB_cc_count =  AB_result['cc_count']\n",
    "AB_cpound_count = AB_result['cpound_count']\n",
    "AB_s_t = AB_result['s_t']\n",
    "AB_cc_t = AB_result['cc_t']\n",
    "AB_cpound_t = AB_result['cpound_t']\n",
    "AB_complexity = AB_result['complexity']"
   ]
  },
  {
   "cell_type": "code",
   "execution_count": 24,
   "id": "526fa17d-726d-449f-a216-501879e1e3d0",
   "metadata": {},
   "outputs": [
    {
     "name": "stdout",
     "output_type": "stream",
     "text": [
      "Compound-Complex Sentences: 8\n",
      "Compound Sentences: 16\n",
      "Total Sentences: 3011\n",
      "Simple Sentences: 1086\n",
      "Simple Sentences / Total Sentences: 36.07%\n",
      "Compound-Complex Sentences / Total Sentences: 0.27%\n",
      "Compound Sentences / Total Sentences: 0.53%\n",
      "Complexity: 3.92 char per word\n"
     ]
    }
   ],
   "source": [
    "doc_HP = nlp(Harry_dia)\n",
    "\n",
    "HP_result = analyze_sentence_structure(doc_HP)\n",
    "HP_cc_count =  HP_result['cc_count']\n",
    "HP_cpound_count = HP_result['cpound_count']\n",
    "HP_s_t = HP_result['s_t']\n",
    "HP_cc_t = HP_result['cc_t']\n",
    "HP_cpound_t = HP_result['cpound_t']\n",
    "HP_complexity = HP_result['complexity']\n"
   ]
  },
  {
   "cell_type": "code",
   "execution_count": 25,
   "id": "12512869-5cb4-4a4c-98bb-a2b33e3c5022",
   "metadata": {},
   "outputs": [
    {
     "name": "stdout",
     "output_type": "stream",
     "text": [
      "Compound-Complex Sentences: 11\n",
      "Compound Sentences: 15\n",
      "Total Sentences: 1419\n",
      "Simple Sentences: 488\n",
      "Simple Sentences / Total Sentences: 34.39%\n",
      "Compound-Complex Sentences / Total Sentences: 0.78%\n",
      "Compound Sentences / Total Sentences: 1.06%\n",
      "Complexity: 4.08 char per word\n"
     ]
    }
   ],
   "source": [
    "doc_HG = nlp(Hermione_dia)\n",
    "\n",
    "HG_result = analyze_sentence_structure(doc_HG)\n",
    "HG_cc_count =  HG_result['cc_count']\n",
    "HG_cpound_count = HG_result['cpound_count']\n",
    "HG_s_t = HG_result['s_t']\n",
    "HG_cc_t = HG_result['cc_t']\n",
    "HG_cpound_t = HG_result['cpound_t']\n",
    "HG_complexity = HG_result['complexity']\n",
    "\n"
   ]
  },
  {
   "cell_type": "code",
   "execution_count": 26,
   "id": "86c55cde-b00f-4a43-a4d3-ea3140d11d94",
   "metadata": {},
   "outputs": [
    {
     "name": "stdout",
     "output_type": "stream",
     "text": [
      "Compound-Complex Sentences: 6\n",
      "Compound Sentences: 8\n",
      "Total Sentences: 1440\n",
      "Simple Sentences: 455\n",
      "Simple Sentences / Total Sentences: 31.60%\n",
      "Compound-Complex Sentences / Total Sentences: 0.42%\n",
      "Compound Sentences / Total Sentences: 0.56%\n",
      "Complexity: 3.91 char per word\n"
     ]
    }
   ],
   "source": [
    "doc_RW = nlp(Ron_dia)\n",
    "\n",
    "RW_result = analyze_sentence_structure(doc_RW)\n",
    "RW_cc_count =  RW_result['cc_count']\n",
    "RW_cpound_count = RW_result['cpound_count']\n",
    "RW_s_t = RW_result['s_t']\n",
    "RW_cc_t = RW_result['cc_t']\n",
    "RW_cpound_t = RW_result['cpound_t']\n",
    "RW_complexity = RW_result['complexity']\n",
    "\n",
    "\n"
   ]
  },
  {
   "cell_type": "code",
   "execution_count": 27,
   "id": "9f090263-7570-45e6-b884-ed4f279d4f61",
   "metadata": {},
   "outputs": [
    {
     "name": "stdout",
     "output_type": "stream",
     "text": [
      "Compound-Complex Sentences: 2\n",
      "Compound Sentences: 4\n",
      "Total Sentences: 263\n",
      "Simple Sentences: 114\n",
      "Simple Sentences / Total Sentences: 43.35%\n",
      "Compound-Complex Sentences / Total Sentences: 0.76%\n",
      "Compound Sentences / Total Sentences: 1.52%\n",
      "Complexity: 4.04 char per word\n"
     ]
    }
   ],
   "source": [
    "doc_V = nlp(Voldemort_dia)\n",
    "\n",
    "V_result = analyze_sentence_structure(doc_V)\n",
    "V_cc_count =  V_result['cc_count']\n",
    "V_cpound_count = V_result['cpound_count']\n",
    "V_s_t = V_result['s_t']\n",
    "V_cc_t = V_result['cc_t']\n",
    "V_cpound_t = V_result['cpound_t']\n",
    "V_complexity = V_result['complexity']\n"
   ]
  },
  {
   "cell_type": "code",
   "execution_count": 28,
   "id": "4ac9e042-6393-4e7e-a8c0-9bf954067f8b",
   "metadata": {},
   "outputs": [
    {
     "name": "stdout",
     "output_type": "stream",
     "text": [
      "Compound-Complex Sentences: 0\n",
      "Compound Sentences: 2\n",
      "Total Sentences: 232\n",
      "Simple Sentences: 88\n",
      "Simple Sentences / Total Sentences: 37.93%\n",
      "Compound-Complex Sentences / Total Sentences: 0.00%\n",
      "Compound Sentences / Total Sentences: 0.86%\n",
      "Complexity: 4.01 char per word\n"
     ]
    }
   ],
   "source": [
    "doc_M = nlp(Malfoy_dia)\n",
    "\n",
    "M_result = analyze_sentence_structure(doc_M)\n",
    "M_cc_count =  M_result['cc_count']\n",
    "M_cpound_count = M_result['cpound_count']\n",
    "M_s_t = M_result['s_t']\n",
    "M_cc_t = M_result['cc_t']\n",
    "M_cpound_t = M_result['cpound_t']\n",
    "M_complexity = M_result['complexity']"
   ]
  },
  {
   "cell_type": "code",
   "execution_count": 29,
   "id": "0b35a3a3-d7db-480b-b40d-c30009596b58",
   "metadata": {},
   "outputs": [
    {
     "name": "stdout",
     "output_type": "stream",
     "text": [
      "Compound-Complex Sentences: 4\n",
      "Compound Sentences: 4\n",
      "Total Sentences: 319\n",
      "Simple Sentences: 127\n",
      "Simple Sentences / Total Sentences: 39.81%\n",
      "Compound-Complex Sentences / Total Sentences: 1.25%\n",
      "Compound Sentences / Total Sentences: 1.25%\n",
      "Complexity: 4.25 char per word\n"
     ]
    }
   ],
   "source": [
    "doc_S = nlp(Snape_dia)\n",
    "\n",
    "S_result = analyze_sentence_structure(doc_S)\n",
    "S_cc_count =  S_result['cc_count']\n",
    "S_cpound_count = S_result['cpound_count']\n",
    "S_s_t = f\"{S_result['s_t']}\"\n",
    "S_cc_t = S_result['cc_t']\n",
    "S_cpound_t = S_result['cpound_t']\n",
    "S_complexity = S_result['complexity']"
   ]
  },
  {
   "cell_type": "code",
   "execution_count": 36,
   "id": "0f94352b-b830-4fa5-a701-7695ff23411b",
   "metadata": {},
   "outputs": [
    {
     "name": "stderr",
     "output_type": "stream",
     "text": [
      "C:\\Users\\Jessi\\AppData\\Local\\Temp\\ipykernel_37168\\3284526577.py:64: UserWarning: set_ticklabels() should only be used with a fixed number of ticks, i.e. after set_ticks() or using a FixedLocator.\n",
      "  axs[i].set_xticklabels(df_sorted['Characters'], rotation=45, ha='right')\n",
      "C:\\Users\\Jessi\\AppData\\Local\\Temp\\ipykernel_37168\\3284526577.py:64: UserWarning: set_ticklabels() should only be used with a fixed number of ticks, i.e. after set_ticks() or using a FixedLocator.\n",
      "  axs[i].set_xticklabels(df_sorted['Characters'], rotation=45, ha='right')\n",
      "C:\\Users\\Jessi\\AppData\\Local\\Temp\\ipykernel_37168\\3284526577.py:64: UserWarning: set_ticklabels() should only be used with a fixed number of ticks, i.e. after set_ticks() or using a FixedLocator.\n",
      "  axs[i].set_xticklabels(df_sorted['Characters'], rotation=45, ha='right')\n",
      "C:\\Users\\Jessi\\AppData\\Local\\Temp\\ipykernel_37168\\3284526577.py:64: UserWarning: set_ticklabels() should only be used with a fixed number of ticks, i.e. after set_ticks() or using a FixedLocator.\n",
      "  axs[i].set_xticklabels(df_sorted['Characters'], rotation=45, ha='right')\n"
     ]
    },
    {
     "data": {
      "image/png": "[encoded data removed]",
      "text/plain": [
       "<Figure size 2000x1600 with 4 Axes>"
      ]
     },
     "metadata": {},
     "output_type": "display_data"
    }
   ],
   "source": [
    "import matplotlib.pyplot as plt\n",
    "import numpy as np\n",
    "\n",
    "# Create the DataFrame\n",
    "data = {\n",
    "    'Characters': ['AB', 'HP', 'HG', 'RW', 'V', 'M', 'S'],\n",
    "    's_t': [AB_s_t, HP_s_t, HG_s_t, RW_s_t, V_s_t, M_s_t, S_s_t],\n",
    "    'cc_count(cc_t)': [f\"{AB_cc_count}({AB_cc_t})\", f\"{HP_cc_count}({HP_cc_t})\", f\"{HG_cc_count}({HG_cc_t})\", \n",
    "                       f\"{RW_cc_count}({RW_cc_t})\", f\"{V_cc_count}({V_cc_t})\", f\"{M_cc_count}({M_cc_t})\", \n",
    "                       f\"{S_cc_count}({S_cc_t})\"],\n",
    "    'cpound_count(cpound_t)': [f\"{AB_cpound_count}({AB_cpound_t})\", f\"{HP_cpound_count}({HP_cpound_t})\", \n",
    "                               f\"{HG_cpound_count}({HG_cpound_t})\", f\"{RW_cpound_count}({RW_cpound_t})\", \n",
    "                               f\"{V_cpound_count}({V_cpound_t})\", f\"{M_cpound_count}({M_cpound_t})\", \n",
    "                               f\"{S_cpound_count}({S_cpound_t})\"],\n",
    "    'complexity': [AB_complexity, HP_complexity, HG_complexity, RW_complexity, V_complexity, M_complexity, S_complexity],\n",
    "    \"extravision_score\": [4.36, 3.92, 4.65, 4.9, 4.36, 4.23, 2.65]\n",
    "}\n",
    "df = pd.DataFrame(data)\n",
    "\n",
    "# Convert s_t to float and round off s_t and complexity to 2 decimal places\n",
    "df['s_t'] = pd.to_numeric(df['s_t'], errors='coerce').round(2)\n",
    "df['complexity'] = pd.to_numeric(df['complexity'], errors='coerce').round(2)\n",
    "\n",
    "# Extract 't' values for sorting and round to 2 decimal places\n",
    "df['cc_t'] = df['cc_count(cc_t)'].str.extract('\\((\\d+\\.?\\d*)\\)').astype(float).round(2)\n",
    "df['cpound_t'] = df['cpound_count(cpound_t)'].str.extract('\\((\\d+\\.?\\d*)\\)').astype(float).round(2)\n",
    "\n",
    "# Update cc_count(cc_t) and cpound_count(cpound_t) with rounded values\n",
    "df['cc_count(cc_t)'] = df.apply(lambda row: f\"{int(row['cc_count(cc_t)'].split('(')[0])}({row['cc_t']:.2f})\", axis=1)\n",
    "df['cpound_count(cpound_t)'] = df.apply(lambda row: f\"{int(row['cpound_count(cpound_t)'].split('(')[0])}({row['cpound_t']:.2f})\", axis=1)\n",
    "\n",
    "# Set up the plot\n",
    "fig, axs = plt.subplots(2, 2, figsize=(20, 16))\n",
    "axs = axs.flatten()\n",
    "\n",
    "metrics = ['s_t', 'cc_t', 'cpound_t', 'complexity']\n",
    "titles = ['Simple Sentences %', 'Complex Sentences %', 'Compound Sentences %', 'Complexity']\n",
    "display_columns = ['s_t', 'cc_count(cc_t)', 'cpound_count(cpound_t)', 'complexity']\n",
    "\n",
    "for i, (metric, title, display_col) in enumerate(zip(metrics, titles, display_columns)):\n",
    "    # Sort the dataframe by the current metric\n",
    "    df_sorted = df.sort_values(by=metric, ascending=False)\n",
    "    \n",
    "    # Create the bar chart\n",
    "    axs[i].bar(df_sorted['Characters'], df_sorted[metric])\n",
    "    \n",
    "    # Customize the plot\n",
    "    axs[i].set_ylabel(title)\n",
    "    axs[i].set_title(f'{title} by Characters')\n",
    "    axs[i].set_ylim(0, df_sorted[metric].max() * 1.1)  # Set y-axis limit\n",
    "    \n",
    "    # Add grid lines\n",
    "    axs[i].grid(axis='y', linestyle='--', alpha=0.7)\n",
    "    \n",
    "    # Add value labels on top of each bar\n",
    "    for j, v in enumerate(df_sorted[metric]):\n",
    "        if display_col in ['cc_count(cc_t)', 'cpound_count(cpound_t)']:\n",
    "            label = df_sorted[display_col].iloc[j]\n",
    "        else:\n",
    "            label = f'{v:.2f}'\n",
    "        axs[i].text(j, v, label, ha='center', va='bottom')\n",
    "    \n",
    "    # Rotate x-axis labels for better readability\n",
    "    axs[i].set_xticklabels(df_sorted['Characters'], rotation=45, ha='right')\n",
    "\n",
    "plt.tight_layout()\n",
    "plt.show()"
   ]
  },
  {
   "cell_type": "code",
   "execution_count": 42,
   "id": "af058d9e-a84c-49cf-82aa-148f20929e4b",
   "metadata": {},
   "outputs": [
    {
     "name": "stdout",
     "output_type": "stream",
     "text": [
      "  Characters    s_t  cc_t  cpound_t  complexity  extravision_score\n",
      "0         AB  31.17  1.13      1.54        4.22               4.36\n",
      "1         HP  36.07  0.27      0.53        3.92               3.92\n",
      "2         HG  34.39  0.78      1.06        4.08               4.65\n",
      "3         RW  31.60  0.42      0.56        3.91               4.90\n",
      "4          V  43.35  0.76      1.52        4.04               4.36\n",
      "5          M  37.93  0.00      0.86        4.01               4.23\n",
      "6          S  39.81  1.25      1.25        4.25               2.65\n",
      "\n",
      "Normality Test Results (Shapiro-Wilk Test):(correct to 4 decimal places)\n",
      "s_t: W-statistic = 0.9579, p-value = 0.8009\n",
      "cc_t: W-statistic = 0.9597, p-value = 0.8159\n",
      "cpound_t: W-statistic = 0.9080, p-value = 0.3820\n",
      "complexity: W-statistic = 0.9128, p-value = 0.4154\n",
      "extravision_score: W-statistic = 0.8395, p-value = 0.0982\n",
      "\n",
      "Correlation Test Results with Extravision Score:(correct to 4 decimal places)\n",
      "s_t: Pearson - Correlation Coefficient = -0.4731, p-value = 0.2837\n",
      "cc_t: Pearson - Correlation Coefficient = -0.4255, p-value = 0.3413\n",
      "cpound_t: Pearson - Correlation Coefficient = -0.1944, p-value = 0.6762\n",
      "complexity: Pearson - Correlation Coefficient = -0.5627, p-value = 0.1884\n",
      "\n",
      "Kruskal-Wallis Test Result for Differences among Variables:(correct to 4 decimal places)\n",
      "H-statistic = 30.1337, p-value = 0.0000\n"
     ]
    }
   ],
   "source": [
    "from scipy.stats import shapiro, pearsonr, spearmanr, kruskal\n",
    "\n",
    "data_n = {\n",
    "    'Characters': ['AB', 'HP', 'HG', 'RW', 'V', 'M', 'S'],\n",
    "    \"s_t\": [31.17, 36.07, 34.39, 31.60, 43.35, 37.93, 39.81],\n",
    "    \"cc_t\": [1.13, 0.27, 0.78, 0.42, 0.76, 0.00, 1.25],\n",
    "    \"cpound_t\": [1.54, 0.53, 1.06, 0.56, 1.52, 0.86, 1.25],\n",
    "    \"complexity\": [4.22, 3.92, 4.08, 3.91, 4.04, 4.01, 4.25],\n",
    "    \"extravision_score\": [4.36, 3.92, 4.65, 4.9, 4.36, 4.23, 2.65]\n",
    "}\n",
    "\n",
    "df_n = pd.DataFrame(data_n)\n",
    "\n",
    "print(df_n)\n",
    "\n",
    "# Normality test for each variable\n",
    "normality_results = {col: shapiro(df_n[col]) for col in df_n.columns if col != 'Characters'}\n",
    "\n",
    "print(\"\\nNormality Test Results (Shapiro-Wilk Test):(correct to 4 decimal places)\")\n",
    "\n",
    "for col, result in normality_results.items():\n",
    "    print(f\"{col}: W-statistic = {result.statistic:.4f}, p-value = {result.pvalue:.4f}\")\n",
    "\n",
    "# Correlation tests between each variable and extravision_score\n",
    "correlations = {}\n",
    "for col in df_n.columns[1:-1]:  # All numeric columns except extravision_score\n",
    "    # Check if variables are normally distributed\n",
    "    if normality_results[col].pvalue > 0.05 and normality_results['extravision_score'].pvalue > 0.05:\n",
    "        # Use Pearson's correlation if both are normally distributed\n",
    "        corr, p_val = pearsonr(df_n[col], df_n['extravision_score'])\n",
    "        test_type = \"Pearson\"\n",
    "    else:\n",
    "        # Use Spearman's correlation otherwise\n",
    "        corr, p_val = spearmanr(df_n[col], df_n['extravision_score'])\n",
    "        test_type = \"Spearman\"\n",
    "    correlations[col] = {\"Correlation Type\": test_type,\"Correlation Coefficient\": corr, \"p-value\": p_val}\n",
    "\n",
    "print(\"\\nCorrelation Test Results with Extravision Score:(correct to 4 decimal places)\")\n",
    "\n",
    "for col, result in correlations.items():\n",
    "    print(f\"{col}: {result['Correlation Type']} - Correlation Coefficient = {result['Correlation Coefficient']:.4f}, p-value = {result['p-value']:.4f}\")\n",
    "\n",
    "# Significance test among all numeric variables using Kruskal-Wallis test\n",
    "numeric_columns = df_n.select_dtypes(include=[np.number]).columns\n",
    "significance_test = kruskal(*[df_n[col] for col in numeric_columns])\n",
    "\n",
    "print(\"\\nKruskal-Wallis Test Result for Differences among Variables:(correct to 4 decimal places)\")\n",
    "print(f\"H-statistic = {significance_test.statistic:.4f}, p-value = {significance_test.pvalue:.4f}\")"
   ]
  },
  {
   "cell_type": "code",
   "execution_count": null,
   "id": "138b5439-481c-45de-bed3-742864943986",
   "metadata": {},
   "outputs": [],
   "source": []
  }
 ],
 "metadata": {
  "kernelspec": {
   "display_name": "Python 3 (ipykernel)",
   "language": "python",
   "name": "python3"
  },
  "language_info": {
   "codemirror_mode": {
    "name": "ipython",
    "version": 3
   },
   "file_extension": ".py",
   "mimetype": "text/x-python",
   "name": "python",
   "nbconvert_exporter": "python",
   "pygments_lexer": "ipython3",
   "version": "3.11.6"
  }
 },
 "nbformat": 4,
 "nbformat_minor": 5
}
